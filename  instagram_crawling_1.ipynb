{
 "cells": [
  {
   "cell_type": "code",
   "execution_count": 76,
   "id": "aa4565ec",
   "metadata": {},
   "outputs": [],
   "source": [
    "# 파이썬으로 크롬 제어하기 - chrome driver\n",
    "from selenium import webdriver\n",
    "\n",
    "driver = webdriver.Chrome('/Users/82104/Desktop/2021 KNU Jupyter/chromedriver')"
   ]
  },
  {
   "cell_type": "code",
   "execution_count": 77,
   "id": "c440c124",
   "metadata": {},
   "outputs": [],
   "source": [
    "import time\n",
    "driver.get(\"https://www.instagram.com\")\n",
    "# 정보를 로딩하는 시간 기다리기\n",
    "time.sleep(2)"
   ]
  },
  {
   "cell_type": "code",
   "execution_count": 78,
   "id": "3dd1b829",
   "metadata": {},
   "outputs": [],
   "source": [
    "#인스타그램 로그인하기\n",
    "email = 'fuckingknu@naver.com'\n",
    "input_id = driver.find_elements_by_css_selector('input._2hvTZ.pexuQ.zyHYP') [0]\n",
    "input_id.clear()\n",
    "input_id.send_keys(email)\n",
    "\n",
    "password = 'KeiEsem2206!'\n",
    "input_pw = driver.find_elements_by_css_selector('input._2hvTZ.pexuQ.zyHYP') [1]\n",
    "input_pw.clear()\n",
    "input_pw.send_keys(password)\n",
    "input_pw.submit()\n",
    "time.sleep(3)"
   ]
  },
  {
   "cell_type": "code",
   "execution_count": 79,
   "id": "49ef89d9",
   "metadata": {},
   "outputs": [],
   "source": [
    "#검색결과 URL 만들기 with 함수\n",
    "def insta_searching(word):\n",
    "    \n",
    "    url = 'https://www.instagram.com/explore/tags/' + word\n",
    "    return url"
   ]
  },
  {
   "cell_type": "code",
   "execution_count": 80,
   "id": "3eb90831",
   "metadata": {},
   "outputs": [],
   "source": [
    "#검색결과  페이지 접속하기\n",
    "word = '대구카페'\n",
    "url = insta_searching(word)\n",
    "driver.get(url)"
   ]
  },
  {
   "cell_type": "code",
   "execution_count": 81,
   "id": "81dad2ae",
   "metadata": {},
   "outputs": [],
   "source": [
    "# HTML에서 첫번째 게시글 찾아 클릭하기\n",
    "def select_first(driver):\n",
    "    first=driver.find_element_by_css_selector(\"div._9AhH0\")\n",
    "    first.click()\n",
    "    time.sleep(3)\n",
    "    \n",
    "select_first(driver)"
   ]
  },
  {
   "cell_type": "code",
   "execution_count": 82,
   "id": "bbdc3984",
   "metadata": {
    "scrolled": true
   },
   "outputs": [
    {
     "data": {
      "text/plain": [
       "['간만에 햇빛구경 ☀️☀️☀️', '2021-08-15', '165', '', []]"
      ]
     },
     "execution_count": 82,
     "metadata": {},
     "output_type": "execute_result"
    }
   ],
   "source": [
    "# 게시글 정보 가져오기\n",
    "import re\n",
    "from bs4 import BeautifulSoup\n",
    "import unicodedata\n",
    "\n",
    "def get_content(driver):\n",
    "    #1. 현재 페이지 html 정보 가져오기\n",
    "    html = driver.page_source\n",
    "    soup = BeautifulSoup(html, 'html.parser')\n",
    "    #2. 본문 내용 가져오기\n",
    "    try: \n",
    "        content = soup.select('div.C4VMK > span')[0].text\n",
    "        content = unicodedata.normalize('NFC',content)\n",
    "    except:\n",
    "        content = ' '\n",
    "    #3. 본문 내용에서 해시태드를 가져오기(정규식 활용)\n",
    "    tags = re.findall(r'#[^\\s#,\\\\]+', content)\n",
    "    #4. 작성일자 정보 가져오기\n",
    "    date = soup.select('time._1o9PC.Nzb55')[0]['datetime'][:10]\n",
    "    #5. 좋아요 수 가져오기\n",
    "    try:\n",
    "        like = soup.select('div.Nm9Fw')[0].text.split(' ')[1].split('개')[0]\n",
    "    except:\n",
    "        like = 0\n",
    "    #6. 위치정보 가져오기\n",
    "    try:\n",
    "        place = soup.select('div.M30cS')[0].text\n",
    "        place = unicodedata.normalize('NFC',place)\n",
    "    except:\n",
    "        place = ''\n",
    "    #7. 수집한 정보 저장하기\n",
    "    data = [content, date, like, place, tags]\n",
    "    return data\n",
    "\n",
    "get_content(driver)"
   ]
  },
  {
   "cell_type": "code",
   "execution_count": 83,
   "id": "7ca673b2",
   "metadata": {},
   "outputs": [],
   "source": [
    "# 다음 게시글 열기\n",
    "def move_next(driver):\n",
    "    right = driver.find_element_by_css_selector('a.coreSpriteRightPaginationArrow')\n",
    "    right.click()\n",
    "    time.sleep(3)\n",
    "    \n",
    "move_next(driver)    "
   ]
  },
  {
   "cell_type": "code",
   "execution_count": 85,
   "id": "60eb12c3",
   "metadata": {},
   "outputs": [],
   "source": [
    "# 인스타그램 크롤링 1\n",
    "from selenium import webdriver\n",
    "from bs4 import BeautifulSoup\n",
    "import time\n",
    "import re\n",
    "# 크롬 브라우저 열기\n",
    "driver = webdriver.Chrome('/Users/82104/Desktop/2021 KNU Jupyter/chromedriver')\n",
    "driver.get(\"https://www.instagram.com\")\n",
    "# 정보를 로딩하는 시간 기다리기\n",
    "time.sleep(2)\n",
    "#인스타그램 로그인하기\n",
    "email = 'fuckingknu@naver.com'\n",
    "input_id = driver.find_elements_by_css_selector('input._2hvTZ.pexuQ.zyHYP') [0]\n",
    "input_id.clear()\n",
    "input_id.send_keys(email)\n",
    "\n",
    "password = 'KeiEsem2206!'\n",
    "input_pw = driver.find_elements_by_css_selector('input._2hvTZ.pexuQ.zyHYP') [1]\n",
    "input_pw.clear()\n",
    "input_pw.send_keys(password)\n",
    "input_pw.submit()\n",
    "time.sleep(3)"
   ]
  },
  {
   "cell_type": "code",
   "execution_count": 86,
   "id": "9e49b2e5",
   "metadata": {},
   "outputs": [],
   "source": [
    "#인스타그램 크롤링 2\n",
    "# 2. 인스타그램 검색페이지 URL 만들기\n",
    "word = '대구카페'\n",
    "url = insta_searching(word)\n",
    "\n",
    "# 3. 검색페이지 접속하기\n",
    "driver.get(url)\n",
    "time.sleep(10)\n",
    "\n",
    "# 4. 첫번째 게시글 열기\n",
    "# select_first(driver)\n",
    "first=driver.find_element_by_css_selector(\"div._9AhH0\")\n",
    "first.click()\n",
    "time.sleep(3)"
   ]
  },
  {
   "cell_type": "code",
   "execution_count": 87,
   "id": "378954bc",
   "metadata": {},
   "outputs": [
    {
     "name": "stdout",
     "output_type": "stream",
     "text": [
      "[['간만에 햇빛구경 ☀️☀️☀️', '2021-08-15', '165', '', []], ['⠀아직 더운 여름이고 싶은데선선한 밤공기가 가을이어야만 한다 ☕️⠀#형제자매님건강하세요', '2021-08-14', '293', 'Daegu, South Korea', ['#형제자매님건강하세요']]]\n"
     ]
    }
   ],
   "source": [
    "# 5. 비어있는 변수(results) 만들기\n",
    "results = [ ]\n",
    "\n",
    "# 6. 여러 게시글 수집하기\n",
    "target = 500 # 크롤링할 게시글 수\n",
    "for i in range(target):\n",
    "    # 게시글 수집에 오류 발생시 2초 대기 후, 다음글로 넘어가\n",
    "    try:\n",
    "        data = get_content(driver)\n",
    "        results.append(data)\n",
    "        move_next(driver)\n",
    "    except :\n",
    "        time.sleep(10)\n",
    "        move_next(driver)\n",
    "        \n",
    "print(results[:2])"
   ]
  },
  {
   "cell_type": "code",
   "execution_count": 88,
   "id": "458e0ca2",
   "metadata": {},
   "outputs": [],
   "source": [
    "# 크롤링 결과 저장하기\n",
    "import pandas as pd\n",
    "results_df = pd.DataFrame(results)\n",
    "results_df.columns = ['content','date','like', 'place','tags']\n",
    "results_df.to_excel('./files/1_crawling_daegucafe_500_2.xlsx')"
   ]
  },
  {
   "cell_type": "code",
   "execution_count": null,
   "id": "a1fcd2d9",
   "metadata": {},
   "outputs": [],
   "source": []
  }
 ],
 "metadata": {
  "kernelspec": {
   "display_name": "Python 3",
   "language": "python",
   "name": "python3"
  },
  "language_info": {
   "codemirror_mode": {
    "name": "ipython",
    "version": 3
   },
   "file_extension": ".py",
   "mimetype": "text/x-python",
   "name": "python",
   "nbconvert_exporter": "python",
   "pygments_lexer": "ipython3",
   "version": "3.8.8"
  }
 },
 "nbformat": 4,
 "nbformat_minor": 5
}
